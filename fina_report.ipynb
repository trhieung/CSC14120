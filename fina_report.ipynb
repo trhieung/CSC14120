{
 "cells": [
  {
   "cell_type": "markdown",
   "metadata": {},
   "source": [
    "**Thông tin nhóm: Nhóm 2**\n",
    "\n",
    "**20120083 - Nguyễn Trọng Hiếu**\n",
    "\n",
    "**20120105 - Lê Hoàng Huy**\n"
   ]
  },
  {
   "cell_type": "markdown",
   "metadata": {},
   "source": [
    "### 1. Application description\n",
    "**What is your chosen application?**\n",
    "\n",
    "Our chosen application: Thực hiện và tối ưu hóa forward-pass của convolutional layer bằng CUDA.\n",
    "\n",
    "<li> Fashion MNIST </li>\n",
    "\n",
    "* Input\n",
    "\n",
    "* Output\n",
    "\n",
    "* Use cases\n",
    "\n",
    "<li> convolutional layer</li>\n",
    "\n",
    "* Input\n",
    "\n",
    "* Output\n",
    "\n",
    "* Use cases\n",
    "\n",
    "**Does it need to speed up? Why**\n"
   ]
  },
  {
   "cell_type": "markdown",
   "metadata": {},
   "source": [
    "### 2. Sequential implementation\n",
    "**Design: Describe steps to go from input to output (don’t show code)**\n",
    "\n",
    "Dựa vào mô hình base <a href='https://github.com/iamhankai/mini-dnn-cpp'>mini-dnn-cpp</a> tiến hành \n",
    "* Xây dựng kiến trúc <a href='https://www.kaggle.com/code/blurredmachine/lenet-architecture-a-complete-guide'>LeNet-5</a>\n",
    "* Chạy trên bộ dữ liệu <a href='https://github.com/zalandoresearch/fashion-mnist'>Fashion MNIST</a>\n",
    "\n",
    "**Evaluate:**\n",
    "* Describe your experiment setup\n",
    "* Runthe code to see results\n",
    "* Doesit run correctly?"
   ]
  },
  {
   "cell_type": "markdown",
   "metadata": {},
   "source": [
    "### 3. Parallel implementation\n",
    "**Analyze: Which steps do you parallelize? Why these steps?**\n",
    "\n",
    "Thực hiện song song trên forward-pass của convolutional layer.\n",
    "Nhận xét tính khả thi trong việc tận dụng tính toán song song của GPU để tiết kiệm thời gian.\n",
    "\n",
    "**Design: How do you parallelize? (don’t show code)**\n",
    "\n",
    "**Evaluate:**\n",
    "\n",
    "* Describe your experiment setup\n",
    "* Runthe code to see results\n",
    "* Doesit run correctly & faster? If not, do you know why?"
   ]
  },
  {
   "cell_type": "markdown",
   "metadata": {},
   "source": [
    "### 4. Parallel implementation + optimization\n",
    "\n",
    "**Version 1**\n",
    "\n",
    "**Analyze: Which parts (often: which kernels) do you optimize? Why these parts?**\n",
    "\n",
    "**Design: How do you optimize? (don’t show code)**\n",
    "\n",
    "**Evaluate:**\n",
    "\n",
    "* Describe your experiment setup\n",
    "* Runthe code to see results\n",
    "* Doesit run correctly & faster? If not, do you know why?\n",
    "\n",
    "**Version 2**\n",
    "\n",
    "**Analyze: Which parts (often: which kernels) do you optimize? Why these parts?**\n",
    "\n",
    "**Design: How do you optimize? (don’t show code)**\n",
    "\n",
    "**Evaluate:**\n",
    "\n",
    "* Describe your experiment setup\n",
    "* Runthe code to see results\n",
    "* Doesit run correctly & faster? If not, do you know why?"
   ]
  },
  {
   "cell_type": "markdown",
   "metadata": {},
   "source": [
    "### 5. Reflection\n",
    "* Eachmember: What difficulties have you encountered?\n",
    "* Eachmember: What have you learned?\n",
    "* Your team: If you had more time, what would you do?"
   ]
  },
  {
   "cell_type": "code",
   "execution_count": null,
   "metadata": {},
   "outputs": [],
   "source": []
  }
 ],
 "metadata": {
  "kernelspec": {
   "display_name": "pyqtenv",
   "language": "python",
   "name": "python3"
  },
  "language_info": {
   "codemirror_mode": {
    "name": "ipython",
    "version": 3
   },
   "file_extension": ".py",
   "mimetype": "text/x-python",
   "name": "python",
   "nbconvert_exporter": "python",
   "pygments_lexer": "ipython3",
   "version": "3.11.3"
  }
 },
 "nbformat": 4,
 "nbformat_minor": 2
}
