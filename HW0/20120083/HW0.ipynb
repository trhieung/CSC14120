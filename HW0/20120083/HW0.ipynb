{
  "cells": [
    {
      "cell_type": "code",
      "execution_count": 6,
      "metadata": {
        "colab": {
          "base_uri": "https://localhost:8080/"
        },
        "id": "68aIBiEyCOTF",
        "outputId": "36470f4b-4e01-49df-be46-1f11eef823ad"
      },
      "outputs": [
        {
          "name": "stdout",
          "output_type": "stream",
          "text": [
            "Wed Oct  4 04:27:41 2023       \n",
            "+-----------------------------------------------------------------------------+\n",
            "| NVIDIA-SMI 525.105.17   Driver Version: 525.105.17   CUDA Version: 12.0     |\n",
            "|-------------------------------+----------------------+----------------------+\n",
            "| GPU  Name        Persistence-M| Bus-Id        Disp.A | Volatile Uncorr. ECC |\n",
            "| Fan  Temp  Perf  Pwr:Usage/Cap|         Memory-Usage | GPU-Util  Compute M. |\n",
            "|                               |                      |               MIG M. |\n",
            "|===============================+======================+======================|\n",
            "|   0  Tesla T4            Off  | 00000000:00:04.0 Off |                    0 |\n",
            "| N/A   42C    P8     9W /  70W |      0MiB / 15360MiB |      0%      Default |\n",
            "|                               |                      |                  N/A |\n",
            "+-------------------------------+----------------------+----------------------+\n",
            "                                                                               \n",
            "+-----------------------------------------------------------------------------+\n",
            "| Processes:                                                                  |\n",
            "|  GPU   GI   CI        PID   Type   Process name                  GPU Memory |\n",
            "|        ID   ID                                                   Usage      |\n",
            "|=============================================================================|\n",
            "|  No running processes found                                                 |\n",
            "+-----------------------------------------------------------------------------+\n"
          ]
        }
      ],
      "source": [
        "!nvidia-smi"
      ]
    },
    {
      "cell_type": "markdown",
      "metadata": {
        "id": "kVyf-ZqPOhWK"
      },
      "source": [
        "Biên dịch chương trình và in kết quả câu 1"
      ]
    },
    {
      "cell_type": "code",
      "execution_count": 7,
      "metadata": {
        "colab": {
          "base_uri": "https://localhost:8080/"
        },
        "id": "jRrI44p6OcN6",
        "outputId": "656bea20-377a-4701-a05b-d60315dd1d8d"
      },
      "outputs": [
        {
          "name": "stdout",
          "output_type": "stream",
          "text": [
            "*****************************Cau 1*****************************\n",
            "GPU card's name:\t\t\t\tTesla T4\n",
            "GPU computation capabilities:\t\t\t 7.5\n",
            "Maximum number of block dimensions:\t\t 1024\n",
            "Maximum number of grid dimensions:\t\t 2147483647, 65535, 65535\n",
            "Maximum size of GPU memory:\t\t\t 15835398144 bytes\n",
            "Amount of constant memory:\t\t\t 65536 bytes\n",
            "Amount of shared memory per block:\t\t 49152 bytes\n",
            "Warp size:\t\t\t\t\t 32 threads\n"
          ]
        }
      ],
      "source": [
        "!nvcc HW0_P1.cu\n",
        "!nvcc -arch=sm_75 HW0_P1.cu\n",
        "!./a.out"
      ]
    },
    {
      "cell_type": "markdown",
      "metadata": {
        "id": "CdWNRoBA8LDD"
      },
      "source": [
        "Biên dịch chương trình và in kết quả câu 2"
      ]
    },
    {
      "cell_type": "code",
      "execution_count": 8,
      "metadata": {
        "colab": {
          "base_uri": "https://localhost:8080/"
        },
        "id": "lqgapSMuPzGh",
        "outputId": "020a7984-7fb1-48da-8544-b15aef1f0552"
      },
      "outputs": [
        {
          "name": "stdout",
          "output_type": "stream",
          "text": [
            "Vector Size |    Host Time (ms)    | Device Time (ms) (Version 1) | Device Time (ms) (Version 2)\n",
            "        64       0.010176000             0.0348160006                  0.0206080005\n",
            "       256       0.009344000             0.0248639993                  0.0245760009\n",
            "      1024       0.011744000             0.0233600009                  0.0216639992\n",
            "      4096       0.046624001             0.0227199998                  0.0206080005\n",
            "     16384       0.085887998             0.0230400003                  0.0283199996\n",
            "     65536       0.448128015             0.0295039993                  0.0272640008\n",
            "    262144       1.200960040             0.0314880013                  0.0343360007\n",
            "   1048576       4.856832027             0.0708480030                  0.0796160027\n",
            "   4194304      20.596767426             0.2253440022                  0.2722240090\n",
            "  16777216      79.429443359             0.8011519909                  1.0144959688\n"
          ]
        }
      ],
      "source": [
        "!nvcc HW0_P2.cu\n",
        "!nvcc -arch=sm_75 HW0_P2.cu\n",
        "!./a.out"
      ]
    },
    {
      "cell_type": "code",
      "execution_count": null,
      "metadata": {},
      "outputs": [
        {
          "ename": "",
          "evalue": "",
          "output_type": "error",
          "traceback": [
            "\u001b[1;31mRunning cells with 'csc10008' requires the ipykernel package.\n",
            "\u001b[1;31mRun the following command to install 'ipykernel' into the Python environment. \n",
            "\u001b[1;31mCommand: 'conda install -n csc10008 ipykernel --update-deps --force-reinstall'"
          ]
        }
      ],
      "source": [
        "a = {1:2}"
      ]
    }
  ],
  "metadata": {
    "accelerator": "GPU",
    "colab": {
      "gpuType": "T4",
      "provenance": []
    },
    "kernelspec": {
      "display_name": "Python 3",
      "name": "python3"
    },
    "language_info": {
      "name": "python",
      "version": "3.9.17"
    }
  },
  "nbformat": 4,
  "nbformat_minor": 0
}
